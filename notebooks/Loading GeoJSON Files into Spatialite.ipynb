{
 "cells": [
  {
   "cell_type": "markdown",
   "metadata": {},
   "source": [
    "# Loading GeoJSON files into SpatiaLite\n",
    "\n",
    "\n",
    "This notebook demonstrates how to load geojson boundary files into a SpatiaLite database based on a [recipe](https://datasette.readthedocs.io/en/stable/spatialite.html#importing-geojson-polygons-using-shapely) cribbed from Simon Willison.\n",
    "\n",
    "A wide selection of UK based geojson boundary files can be found here: https://github.com/martinjc/UK-GeoJSON/"
   ]
  },
  {
   "cell_type": "code",
   "execution_count": 1,
   "metadata": {},
   "outputs": [],
   "source": [
    "!rm lsoas.db"
   ]
  },
  {
   "cell_type": "code",
   "execution_count": 13,
   "metadata": {},
   "outputs": [
    {
     "data": {
      "text/plain": [
       "<sqlite3.Cursor at 0x7f57ef9b6810>"
      ]
     },
     "execution_count": 13,
     "metadata": {},
     "output_type": "execute_result"
    }
   ],
   "source": [
    "import sqlite3\n",
    "conn = sqlite3.connect('lsoas.db')\n",
    "\n",
    "# Enable SpatialLite extension\n",
    "conn.enable_load_extension(True)\n",
    "\n",
    "# !whereis mod_spatialite\n",
    "conn.load_extension('/usr/lib/x86_64-linux-gnu/mod_spatialite.so')\n",
    "\n",
    "# Initialise spatial table support\n",
    "conn.execute('SELECT InitSpatialMetadata(1)')\n",
    "\n",
    "#Create a table for lsoas\n",
    "conn.execute('DROP TABLE IF EXISTS lsoas;')\n",
    "conn.execute('CREATE TABLE lsoas (id integer primary key, name text);')\n",
    "\n",
    "# Add a MULTIPOLYGON Geometry column\n",
    "conn.execute(\"SELECT AddGeometryColumn('lsoas', 'geom', 4326, 'MULTIPOLYGON', 2);\")\n",
    "# Add a spatial index against the new column\n",
    "conn.execute(\"SELECT CreateSpatialIndex('lsoas', 'geom');\")"
   ]
  },
  {
   "cell_type": "markdown",
   "metadata": {},
   "source": [
    "## Loading GeoJSON into SpatiaLite"
   ]
  },
  {
   "cell_type": "code",
   "execution_count": 8,
   "metadata": {},
   "outputs": [],
   "source": [
    "import requests\n",
    "import json\n",
    "\n",
    "#Need to provide a lookup for this?\n",
    "la_code = 'E06000046'\n",
    "\n",
    "url = 'https://raw.githubusercontent.com/martinjc/UK-GeoJSON/master/json/statistical/eng/lsoa_by_lad/{}.json'.format(la_code)\n",
    "data = requests.get(url)\n",
    "\n",
    "\n",
    "import os\n",
    "geodir = 'geodata'\n",
    "if not os.path.exists(geodir):\n",
    "    os.makedirs(geodir)\n",
    "with open('{}/{}.geojson'.format(geodir,la_code), 'w') as f:\n",
    "        f.write(data.text)\n",
    "  \n"
   ]
  },
  {
   "cell_type": "markdown",
   "metadata": {},
   "source": [
    "I haven't found an effective way of loading geojson into `spatialite` directly, or via `geopandas`. But importing data into `spatilite` via a shapefile seems to work, so we can create a workaround:\n",
    "\n",
    "- load geojson into `geopandas`;\n",
    "- save as shapefile;\n",
    "- load shapefile into `spatialite`\n"
   ]
  },
  {
   "cell_type": "code",
   "execution_count": 11,
   "metadata": {},
   "outputs": [
    {
     "data": {
      "text/html": [
       "<div>\n",
       "<style scoped>\n",
       "    .dataframe tbody tr th:only-of-type {\n",
       "        vertical-align: middle;\n",
       "    }\n",
       "\n",
       "    .dataframe tbody tr th {\n",
       "        vertical-align: top;\n",
       "    }\n",
       "\n",
       "    .dataframe thead th {\n",
       "        text-align: right;\n",
       "    }\n",
       "</style>\n",
       "<table border=\"1\" class=\"dataframe\">\n",
       "  <thead>\n",
       "    <tr style=\"text-align: right;\">\n",
       "      <th></th>\n",
       "      <th>LSOA11CD</th>\n",
       "      <th>LSOA11NM</th>\n",
       "      <th>geometry</th>\n",
       "    </tr>\n",
       "  </thead>\n",
       "  <tbody>\n",
       "    <tr>\n",
       "      <th>0</th>\n",
       "      <td>E01017282</td>\n",
       "      <td>Isle of Wight 006A</td>\n",
       "      <td>POLYGON ((-1.17165606546966 50.72114919198948,...</td>\n",
       "    </tr>\n",
       "    <tr>\n",
       "      <th>1</th>\n",
       "      <td>E01017283</td>\n",
       "      <td>Isle of Wight 006B</td>\n",
       "      <td>POLYGON ((-1.168065429754894 50.72135794384606...</td>\n",
       "    </tr>\n",
       "    <tr>\n",
       "      <th>2</th>\n",
       "      <td>E01017284</td>\n",
       "      <td>Isle of Wight 010A</td>\n",
       "      <td>POLYGON ((-1.08034222501772 50.69064111644322,...</td>\n",
       "    </tr>\n",
       "    <tr>\n",
       "      <th>3</th>\n",
       "      <td>E01017285</td>\n",
       "      <td>Isle of Wight 010B</td>\n",
       "      <td>POLYGON ((-1.069832758525084 50.68675112435623...</td>\n",
       "    </tr>\n",
       "    <tr>\n",
       "      <th>4</th>\n",
       "      <td>E01017286</td>\n",
       "      <td>Isle of Wight 005A</td>\n",
       "      <td>POLYGON ((-1.20066878623609 50.7341352724568, ...</td>\n",
       "    </tr>\n",
       "  </tbody>\n",
       "</table>\n",
       "</div>"
      ],
      "text/plain": [
       "    LSOA11CD            LSOA11NM  \\\n",
       "0  E01017282  Isle of Wight 006A   \n",
       "1  E01017283  Isle of Wight 006B   \n",
       "2  E01017284  Isle of Wight 010A   \n",
       "3  E01017285  Isle of Wight 010B   \n",
       "4  E01017286  Isle of Wight 005A   \n",
       "\n",
       "                                            geometry  \n",
       "0  POLYGON ((-1.17165606546966 50.72114919198948,...  \n",
       "1  POLYGON ((-1.168065429754894 50.72135794384606...  \n",
       "2  POLYGON ((-1.08034222501772 50.69064111644322,...  \n",
       "3  POLYGON ((-1.069832758525084 50.68675112435623...  \n",
       "4  POLYGON ((-1.20066878623609 50.7341352724568, ...  "
      ]
     },
     "execution_count": 11,
     "metadata": {},
     "output_type": "execute_result"
    }
   ],
   "source": [
    "import geopandas as gpd\n",
    "\n",
    "#This may kill MyBinder depending on Binder resource allocation?\n",
    "fn = \"geodata/E06000046.geojson\"\n",
    "\n",
    "#We can also load in straight from url\n",
    "gdf = gpd.read_file(fn)\n",
    "gdf.head()"
   ]
  },
  {
   "cell_type": "code",
   "execution_count": 22,
   "metadata": {},
   "outputs": [],
   "source": [
    "#Save as a shapefile\n",
    "#I think the driver attribute can be assumed?\n",
    "gdf.to_file(driver = 'ESRI Shapefile', filename= \"result.shp\", encoding='utf8')"
   ]
  },
  {
   "cell_type": "code",
   "execution_count": 52,
   "metadata": {},
   "outputs": [
    {
     "name": "stdout",
     "output_type": "stream",
     "text": [
      "SpatiaLite version ..: 4.3.0a\tSupported Extensions:\n",
      "\t- 'VirtualShape'\t[direct Shapefile access]\n",
      "\t- 'VirtualDbf'\t\t[direct DBF access]\n",
      "\t- 'VirtualXL'\t\t[direct XLS access]\n",
      "\t- 'VirtualText'\t\t[direct CSV/TXT access]\n",
      "\t- 'VirtualNetwork'\t[Dijkstra shortest path]\n",
      "\t- 'RTree'\t\t[Spatial Index - R*Tree]\n",
      "\t- 'MbrCache'\t\t[Spatial Index - MBR cache]\n",
      "\t- 'VirtualSpatialIndex'\t[R*Tree metahandler]\n",
      "\t- 'VirtualElementary'\t[ElemGeoms metahandler]\n",
      "\t- 'VirtualXPath'\t[XML Path Language - XPath]\n",
      "\t- 'VirtualFDO'\t\t[FDO-OGR interoperability]\n",
      "\t- 'VirtualGPKG'\t[OGC GeoPackage interoperability]\n",
      "\t- 'VirtualBBox'\t\t[BoundingBox tables]\n",
      "\t- 'SpatiaLite'\t\t[Spatial SQL - OGC]\n",
      "PROJ.4 version ......: Rel. 4.9.3, 15 August 2016\n",
      "GEOS version ........: 3.6.2-CAPI-1.10.2 4d2925d6\n",
      "TARGET CPU ..........: x86_64-linux-gnu\n",
      "========\n",
      "Loading shapefile at './result' into SQLite table 'adminboundaries2'\n",
      "\n",
      "BEGIN;\n",
      "CREATE TABLE \"adminboundaries2\" (\n",
      "\"PK_UID\" INTEGER PRIMARY KEY AUTOINCREMENT,\n",
      "\"LSOA11CD\" TEXT,\n",
      "\"LSOA11NM\" TEXT);\n",
      "SELECT AddGeometryColumn('adminboundaries2', 'Geometry', 3857, 'MULTIPOLYGON', 'XY');\n",
      "COMMIT;\n",
      "\n",
      "Inserted 89 rows into 'adminboundaries2' from SHAPEFILE\n",
      "========\n"
     ]
    }
   ],
   "source": [
    "#4326 has the lat / long flipped cf the wgs84 projection?\n",
    "\n",
    "! spatialite lsoas.db \".loadshp ./result adminboundaries2 UTF8 4326\""
   ]
  },
  {
   "cell_type": "code",
   "execution_count": null,
   "metadata": {},
   "outputs": [],
   "source": [
    "#lon / lat vs lat / lon \n",
    "#https://github.com/Leaflet/Leaflet/issues/1455#issuecomment-385273232"
   ]
  },
  {
   "cell_type": "code",
   "execution_count": 5,
   "metadata": {},
   "outputs": [],
   "source": [
    "import requests, json\n",
    "#import pandas as pd\n",
    "import geopandas as gpd\n",
    "from shapely.geometry import shape \n",
    "\n",
    "\n",
    "def query_datasette_api(q,db_url = \"http://localhost:8001/adminboundaries.json\",\n",
    "                        dataframe=False, geojsoncol=None):\n",
    "    ''' Simple query to datasette endpoint. Return response as a dict or pandas dataframe. '''\n",
    "    params = {'sql': q}\n",
    "\n",
    "    r = requests.get(db_url, params=params)\n",
    "    jdata=r.json()\n",
    "    if dataframe:\n",
    "        df=gpd.GeoDataFrame(jdata['rows'])\n",
    "        df.columns = jdata['columns']\n",
    "        for c in df.columns:\n",
    "            #Need a better way to identify geo columns?\n",
    "            #Also, this should really be a geopandas dataframe, with the json column as a geometry column\n",
    "            if c.startswith('AsGeoJSON'):\n",
    "                df[c]=df[c].apply(json.loads)\n",
    "                cn=c.replace('AsGeoJSON(','').replace(')','')\n",
    "                df[cn]=df[c].apply(shape)\n",
    "        return df\n",
    "    \n",
    "    #Need a better way to identify geo columns?\n",
    "    ix = [jdata['columns'].index(c) for c in jdata['columns'] if c.startswith('AsGeoJSON')]\n",
    "    for i in ix:\n",
    "        for i2 in range(len(jdata['rows'])):\n",
    "            jdata['rows'][i2][i]=json.loads(jdata['rows'][i2][i])\n",
    "\n",
    "    geojsoncol  = geojsoncol if geojsoncol and geojsoncol.startswith('AsGeoJSON') else 'AsGeoJSON({})'.format(geojsoncol)\n",
    "    if geojsoncol and geojsoncol in jdata['columns']:\n",
    "        return jdata['rows'][jdata['columns'].index(geojsoncol)][0]\n",
    "    return jdata"
   ]
  },
  {
   "cell_type": "code",
   "execution_count": 1,
   "metadata": {},
   "outputs": [
    {
     "name": "stdout",
     "output_type": "stream",
     "text": [
      "Serve! files=('lsoas.db',) on port 8002\n",
      "[2019-02-28 15:01:19 +0000] [587] [INFO] Goin' Fast @ http://127.0.0.1:8002\n",
      "[2019-02-28 15:01:19 +0000] [587] [INFO] Starting worker [587]\n"
     ]
    }
   ],
   "source": [
    "#Datasette currently requires specific version of pip?\n",
    "#!pip install --upgrade click==6.7\n",
    "\n",
    "# Example of running datasette server from inside a code cell\n",
    "# via https://nbviewer.jupyter.org/gist/minrk/622080cf8af787734805d12bec4ae302from threading import Thread\n",
    "from threading import Thread\n",
    "\n",
    "def app_in_thread():\n",
    "    ! datasette lsoas.db --port 8002 --load-extension=/usr/lib/x86_64-linux-gnu/mod_spatialite.so --config sql_time_limit_ms:10000 --cors\n",
    "\n",
    "t = Thread(target=app_in_thread)\n",
    "t.start()"
   ]
  },
  {
   "cell_type": "code",
   "execution_count": 12,
   "metadata": {
    "scrolled": true
   },
   "outputs": [
    {
     "name": "stdout",
     "output_type": "stream",
     "text": [
      "[2019-02-28 15:05:58 +0000] - (sanic.access)[INFO][1:2]: GET http://localhost:8002/lsoas.json?sql=SELECT+LSOA11CD%2C+LSOA11NM%2C+AsGeoJSON%28Geometry%29+FROM+adminboundaries2+LIMIT+3  302 0\n",
      "[2019-02-28 15:05:58 +0000] - (sanic.access)[INFO][1:2]: GET http://localhost:8002/lsoas-9218c86.json?sql=SELECT+LSOA11CD%2C+LSOA11NM%2C+AsGeoJSON%28Geometry%29+FROM+adminboundaries2+LIMIT+3  200 11656\n"
     ]
    }
   ],
   "source": [
    "tmp = query_datasette_api(\"SELECT LSOA11CD, LSOA11NM, AsGeoJSON(Geometry) FROM adminboundaries2 LIMIT 3\",\n",
    "                    \"http://localhost:8002/lsoas.json\")\n",
    "#tmp"
   ]
  },
  {
   "cell_type": "code",
   "execution_count": 13,
   "metadata": {
    "scrolled": false
   },
   "outputs": [
    {
     "data": {
      "text/html": [
       "<div style=\"width:100%;\"><div style=\"position:relative;width:100%;height:0;padding-bottom:60%;\"><iframe src=\"data:text/html;charset=utf-8;base64,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\" style=\"position:absolute;width:100%;height:100%;left:0;top:0;border:none !important;\" allowfullscreen webkitallowfullscreen mozallowfullscreen></iframe></div></div>"
      ],
      "text/plain": [
       "<folium.folium.Map at 0x7f3f39830ba8>"
      ]
     },
     "execution_count": 13,
     "metadata": {},
     "output_type": "execute_result"
    }
   ],
   "source": [
    "import folium\n",
    "import html\n",
    "from folium.plugins import MarkerCluster\n",
    "\n",
    "\n",
    "m=folium.Map( location=[ 50.72114919198948,-1.17165606546966,], zoom_start=12)\n",
    "\n",
    "#Add boundaries to the map -  need to tidy query to make this more obvious\n",
    "for boundary in tmp['rows']:\n",
    "    folium.GeoJson(boundary[2], name='geojson').add_to(m)\n",
    "                      \n",
    "m"
   ]
  },
  {
   "cell_type": "code",
   "execution_count": null,
   "metadata": {},
   "outputs": [],
   "source": []
  }
 ],
 "metadata": {
  "kernelspec": {
   "display_name": "Python 3",
   "language": "python",
   "name": "python3"
  },
  "language_info": {
   "codemirror_mode": {
    "name": "ipython",
    "version": 3
   },
   "file_extension": ".py",
   "mimetype": "text/x-python",
   "name": "python",
   "nbconvert_exporter": "python",
   "pygments_lexer": "ipython3",
   "version": "3.6.7"
  }
 },
 "nbformat": 4,
 "nbformat_minor": 2
}
