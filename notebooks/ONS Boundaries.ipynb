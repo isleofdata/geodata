{
 "cells": [
  {
   "cell_type": "markdown",
   "metadata": {},
   "source": [
    "# ONS Boundaries\n",
    "\n",
    "Fragments associated with grabbing boundaries data."
   ]
  },
  {
   "cell_type": "markdown",
   "metadata": {},
   "source": [
    "## Wards (December 2018) Full Extent Boundaries GB\n",
    "http://geoportal.statistics.gov.uk/datasets/wards-december-2018-full-extent-boundaries-gb"
   ]
  },
  {
   "cell_type": "code",
   "execution_count": 2,
   "metadata": {},
   "outputs": [
    {
     "name": "stdout",
     "output_type": "stream",
     "text": [
      "--2019-03-06 14:06:04--  https://opendata.arcgis.com/datasets/52182cdda64d4b15984f6446ca7ee7fd_1.zip?outSR=%7B%22wkid%22%3A27700%2C%22latestWkid%22%3A27700%7D\n",
      "Resolving opendata.arcgis.com (opendata.arcgis.com)... 34.197.13.10, 52.7.213.26\n",
      "Connecting to opendata.arcgis.com (opendata.arcgis.com)|34.197.13.10|:443... connected.\n",
      "HTTP request sent, awaiting response... 200 OK\n",
      "Length: unspecified [application/octet-stream]\n",
      "Saving to: ‘wards_fullextent.zip’\n",
      "\n",
      "wards_fullextent.zi     [           <=>      ]  88.51M  39.0MB/s    in 2.3s    \n",
      "\n",
      "2019-03-06 14:06:07 (39.0 MB/s) - ‘wards_fullextent.zip’ saved [92814270]\n",
      "\n"
     ]
    }
   ],
   "source": [
    "!wget https://opendata.arcgis.com/datasets/52182cdda64d4b15984f6446ca7ee7fd_1.zip?outSR=%7B%22wkid%22%3A27700%2C%22latestWkid%22%3A27700%7D -O wards_fullextent.zip"
   ]
  },
  {
   "cell_type": "code",
   "execution_count": 3,
   "metadata": {},
   "outputs": [
    {
     "name": "stdout",
     "output_type": "stream",
     "text": [
      "Archive:  wards_fullextent.zip\n",
      "  inflating: Wards_December_2018_Full_Extent_Boundaries_GB.shp  \n",
      "  inflating: Wards_December_2018_Full_Extent_Boundaries_GB.shx  \n",
      " extracting: Wards_December_2018_Full_Extent_Boundaries_GB.cpg  \n",
      "  inflating: Wards_December_2018_Full_Extent_Boundaries_GB.prj  \n",
      "  inflating: Wards_December_2018_Full_Extent_Boundaries_GB.xml  \n",
      "  inflating: Wards_December_2018_Full_Extent_Boundaries_GB.dbf  \n"
     ]
    }
   ],
   "source": [
    "!unzip wards_fullextent.zip"
   ]
  },
  {
   "cell_type": "code",
   "execution_count": 20,
   "metadata": {},
   "outputs": [
    {
     "name": "stdout",
     "output_type": "stream",
     "text": [
      "SpatiaLite version ..: 4.3.0a\tSupported Extensions:\n",
      "\t- 'VirtualShape'\t[direct Shapefile access]\n",
      "\t- 'VirtualDbf'\t\t[direct DBF access]\n",
      "\t- 'VirtualXL'\t\t[direct XLS access]\n",
      "\t- 'VirtualText'\t\t[direct CSV/TXT access]\n",
      "\t- 'VirtualNetwork'\t[Dijkstra shortest path]\n",
      "\t- 'RTree'\t\t[Spatial Index - R*Tree]\n",
      "\t- 'MbrCache'\t\t[Spatial Index - MBR cache]\n",
      "\t- 'VirtualSpatialIndex'\t[R*Tree metahandler]\n",
      "\t- 'VirtualElementary'\t[ElemGeoms metahandler]\n",
      "\t- 'VirtualXPath'\t[XML Path Language - XPath]\n",
      "\t- 'VirtualFDO'\t\t[FDO-OGR interoperability]\n",
      "\t- 'VirtualGPKG'\t[OGC GeoPackage interoperability]\n",
      "\t- 'VirtualBBox'\t\t[BoundingBox tables]\n",
      "\t- 'SpatiaLite'\t\t[Spatial SQL - OGC]\n",
      "PROJ.4 version ......: Rel. 4.9.3, 15 August 2016\n",
      "GEOS version ........: 3.6.2-CAPI-1.10.2 4d2925d6\n",
      "TARGET CPU ..........: x86_64-linux-gnu\n",
      "the SPATIAL_REF_SYS table already contains some row(s)\n",
      "========\n",
      "Loading shapefile at './Wards_December_2018_Full_Extent_Boundaries_GB' into SQLite table 'wardboundaries'\n",
      "\n",
      "BEGIN;\n",
      "CREATE TABLE \"wardboundaries\" (\n",
      "\"PK_UID\" INTEGER PRIMARY KEY AUTOINCREMENT,\n",
      "\"objectid\" INTEGER,\n",
      "\"wd18cd\" TEXT,\n",
      "\"wd18nm\" TEXT,\n",
      "\"wd18nmw\" TEXT,\n",
      "\"bng_e\" INTEGER,\n",
      "\"bng_n\" INTEGER,\n",
      "\"long\" DOUBLE,\n",
      "\"lat\" DOUBLE,\n",
      "\"st_areasha\" DOUBLE,\n",
      "\"st_lengths\" DOUBLE);\n",
      "SELECT AddGeometryColumn('wardboundaries', 'Geometry', 27700, 'MULTIPOLYGON', 'XY');\n",
      "COMMIT;\n",
      "\n",
      "Inserted 8652 rows into 'wardboundaries' from SHAPEFILE\n",
      "========\n"
     ]
    }
   ],
   "source": [
    "! spatialite adminboundaries.db \".loadshp ./Wards_December_2018_Full_Extent_Boundaries_GB wardboundaries UTF-8 27700\""
   ]
  },
  {
   "cell_type": "code",
   "execution_count": 21,
   "metadata": {},
   "outputs": [
    {
     "name": "stdout",
     "output_type": "stream",
     "text": [
      "SpatiaLite version ..: 4.3.0a\tSupported Extensions:\n",
      "\t- 'VirtualShape'\t[direct Shapefile access]\n",
      "\t- 'VirtualDbf'\t\t[direct DBF access]\n",
      "\t- 'VirtualXL'\t\t[direct XLS access]\n",
      "\t- 'VirtualText'\t\t[direct CSV/TXT access]\n",
      "\t- 'VirtualNetwork'\t[Dijkstra shortest path]\n",
      "\t- 'RTree'\t\t[Spatial Index - R*Tree]\n",
      "\t- 'MbrCache'\t\t[Spatial Index - MBR cache]\n",
      "\t- 'VirtualSpatialIndex'\t[R*Tree metahandler]\n",
      "\t- 'VirtualElementary'\t[ElemGeoms metahandler]\n",
      "\t- 'VirtualXPath'\t[XML Path Language - XPath]\n",
      "\t- 'VirtualFDO'\t\t[FDO-OGR interoperability]\n",
      "\t- 'VirtualGPKG'\t[OGC GeoPackage interoperability]\n",
      "\t- 'VirtualBBox'\t\t[BoundingBox tables]\n",
      "\t- 'SpatiaLite'\t\t[Spatial SQL - OGC]\n",
      "PROJ.4 version ......: Rel. 4.9.3, 15 August 2016\n",
      "GEOS version ........: 3.6.2-CAPI-1.10.2 4d2925d6\n",
      "TARGET CPU ..........: x86_64-linux-gnu\n",
      "1\n"
     ]
    }
   ],
   "source": [
    "! spatialite adminboundaries.db \"SELECT CreateSpatialIndex('wardboundaries', 'Geometry');\""
   ]
  },
  {
   "cell_type": "markdown",
   "metadata": {},
   "source": [
    "## Spatialite Read Demo\n",
    "\n",
    "Example of how to read data from Spatialite database."
   ]
  },
  {
   "cell_type": "code",
   "execution_count": 22,
   "metadata": {},
   "outputs": [
    {
     "data": {
      "text/plain": [
       "<sqlite3.Cursor at 0x7f13a34e4030>"
      ]
     },
     "execution_count": 22,
     "metadata": {},
     "output_type": "execute_result"
    }
   ],
   "source": [
    "#Set up the db connection and load in the spatialite extension\n",
    "import sqlite3\n",
    "\n",
    "#!whereis mod_spatialite.so\n",
    "shared_lib = '/usr/lib/x86_64-linux-gnu/mod_spatialite.so'\n",
    "dbpath = 'adminboundaries.db' \n",
    "\n",
    "# Create connection and load spatialite extension\n",
    "conn = sqlite3.connect(dbpath)\n",
    "\n",
    "# Enable SpatialLite extension\n",
    "conn.enable_load_extension(True)\n",
    "conn.load_extension(shared_lib)\n",
    "\n",
    "# Initialise spatial table support\n",
    "conn.execute('SELECT InitSpatialMetadata(1)')"
   ]
  },
  {
   "cell_type": "code",
   "execution_count": 52,
   "metadata": {},
   "outputs": [
    {
     "data": {
      "text/html": [
       "<div>\n",
       "<style scoped>\n",
       "    .dataframe tbody tr th:only-of-type {\n",
       "        vertical-align: middle;\n",
       "    }\n",
       "\n",
       "    .dataframe tbody tr th {\n",
       "        vertical-align: top;\n",
       "    }\n",
       "\n",
       "    .dataframe thead th {\n",
       "        text-align: right;\n",
       "    }\n",
       "</style>\n",
       "<table border=\"1\" class=\"dataframe\">\n",
       "  <thead>\n",
       "    <tr style=\"text-align: right;\">\n",
       "      <th></th>\n",
       "      <th>PK_UID</th>\n",
       "      <th>objectid</th>\n",
       "      <th>wd18cd</th>\n",
       "      <th>wd18nm</th>\n",
       "      <th>wd18nmw</th>\n",
       "      <th>bng_e</th>\n",
       "      <th>bng_n</th>\n",
       "      <th>long</th>\n",
       "      <th>lat</th>\n",
       "      <th>st_areasha</th>\n",
       "      <th>st_lengths</th>\n",
       "      <th>Geometry</th>\n",
       "    </tr>\n",
       "  </thead>\n",
       "  <tbody>\n",
       "    <tr>\n",
       "      <th>0</th>\n",
       "      <td>1</td>\n",
       "      <td>1</td>\n",
       "      <td>E05000026</td>\n",
       "      <td>Abbey</td>\n",
       "      <td></td>\n",
       "      <td>544434</td>\n",
       "      <td>184378</td>\n",
       "      <td>0.081291</td>\n",
       "      <td>51.539822</td>\n",
       "      <td>1.282925e+06</td>\n",
       "      <td>6244.885015</td>\n",
       "      <td>b'\\x00\\x014l\\x00\\x000\\x99*\\x98r\\x95 A@\\xb1\\xbf...</td>\n",
       "    </tr>\n",
       "    <tr>\n",
       "      <th>1</th>\n",
       "      <td>2</td>\n",
       "      <td>2</td>\n",
       "      <td>E05000027</td>\n",
       "      <td>Alibon</td>\n",
       "      <td></td>\n",
       "      <td>549247</td>\n",
       "      <td>185196</td>\n",
       "      <td>0.150987</td>\n",
       "      <td>51.545921</td>\n",
       "      <td>1.364442e+06</td>\n",
       "      <td>6353.917640</td>\n",
       "      <td>b'\\x00\\x014l\\x00\\x00X\\xb1\\xbf\\xcc\\xb8\\xb8 A\\x0...</td>\n",
       "    </tr>\n",
       "    <tr>\n",
       "      <th>2</th>\n",
       "      <td>3</td>\n",
       "      <td>3</td>\n",
       "      <td>E05000028</td>\n",
       "      <td>Becontree</td>\n",
       "      <td></td>\n",
       "      <td>546863</td>\n",
       "      <td>185869</td>\n",
       "      <td>0.116912</td>\n",
       "      <td>51.552601</td>\n",
       "      <td>1.288082e+06</td>\n",
       "      <td>6341.645817</td>\n",
       "      <td>b'\\x00\\x014l\\x00\\x00\\x90~\\xfb\\x9a\\x9c\\xaa A\\xc...</td>\n",
       "    </tr>\n",
       "  </tbody>\n",
       "</table>\n",
       "</div>"
      ],
      "text/plain": [
       "   PK_UID  objectid     wd18cd     wd18nm wd18nmw   bng_e   bng_n      long  \\\n",
       "0       1         1  E05000026      Abbey          544434  184378  0.081291   \n",
       "1       2         2  E05000027     Alibon          549247  185196  0.150987   \n",
       "2       3         3  E05000028  Becontree          546863  185869  0.116912   \n",
       "\n",
       "         lat    st_areasha   st_lengths  \\\n",
       "0  51.539822  1.282925e+06  6244.885015   \n",
       "1  51.545921  1.364442e+06  6353.917640   \n",
       "2  51.552601  1.288082e+06  6341.645817   \n",
       "\n",
       "                                            Geometry  \n",
       "0  b'\\x00\\x014l\\x00\\x000\\x99*\\x98r\\x95 A@\\xb1\\xbf...  \n",
       "1  b'\\x00\\x014l\\x00\\x00X\\xb1\\xbf\\xcc\\xb8\\xb8 A\\x0...  \n",
       "2  b'\\x00\\x014l\\x00\\x00\\x90~\\xfb\\x9a\\x9c\\xaa A\\xc...  "
      ]
     },
     "execution_count": 52,
     "metadata": {},
     "output_type": "execute_result"
    }
   ],
   "source": [
    "#We can make a simple pandas query\n",
    "pd.read_sql('SELECT * FROM wardboundaries LIMIT 3', conn)"
   ]
  },
  {
   "cell_type": "markdown",
   "metadata": {},
   "source": [
    "More usefully, we can read queries into a geopandas dataframe if we make sure we return a specified geometry column:"
   ]
  },
  {
   "cell_type": "code",
   "execution_count": 40,
   "metadata": {},
   "outputs": [],
   "source": [
    "import geopandas as gpd\n",
    "%matplotlib inline"
   ]
  },
  {
   "cell_type": "code",
   "execution_count": 36,
   "metadata": {},
   "outputs": [
    {
     "data": {
      "text/html": [
       "<div>\n",
       "<style scoped>\n",
       "    .dataframe tbody tr th:only-of-type {\n",
       "        vertical-align: middle;\n",
       "    }\n",
       "\n",
       "    .dataframe tbody tr th {\n",
       "        vertical-align: top;\n",
       "    }\n",
       "\n",
       "    .dataframe thead th {\n",
       "        text-align: right;\n",
       "    }\n",
       "</style>\n",
       "<table border=\"1\" class=\"dataframe\">\n",
       "  <thead>\n",
       "    <tr style=\"text-align: right;\">\n",
       "      <th></th>\n",
       "      <th>wd18nm</th>\n",
       "      <th>Geometry</th>\n",
       "    </tr>\n",
       "  </thead>\n",
       "  <tbody>\n",
       "    <tr>\n",
       "      <th>0</th>\n",
       "      <td>Abbey</td>\n",
       "      <td>(POLYGON ((544735.1960000005 184076.4979999997...</td>\n",
       "    </tr>\n",
       "    <tr>\n",
       "      <th>1</th>\n",
       "      <td>Alibon</td>\n",
       "      <td>(POLYGON ((547932.3998999996 184916.5975000001...</td>\n",
       "    </tr>\n",
       "  </tbody>\n",
       "</table>\n",
       "</div>"
      ],
      "text/plain": [
       "   wd18nm                                           Geometry\n",
       "0   Abbey  (POLYGON ((544735.1960000005 184076.4979999997...\n",
       "1  Alibon  (POLYGON ((547932.3998999996 184916.5975000001..."
      ]
     },
     "execution_count": 36,
     "metadata": {},
     "output_type": "execute_result"
    }
   ],
   "source": [
    "# SQL must wrap the geometry in hex(st_asbinary(...))\n",
    "sql = \"SELECT wd18nm, Hex(ST_AsBinary(Geometry)) AS Geometry FROM wardboundaries LIMIT 2;\"\n",
    "gpd.GeoDataFrame.from_postgis(sql, conn, geom_col='Geometry').head()"
   ]
  },
  {
   "cell_type": "code",
   "execution_count": 42,
   "metadata": {},
   "outputs": [
    {
     "data": {
      "image/png": "[encoded data removed]",
      "text/plain": [
       "<Figure size 432x288 with 1 Axes>"
      ]
     },
     "metadata": {
      "needs_background": "light"
     },
     "output_type": "display_data"
    }
   ],
   "source": [
    "gpd.GeoDataFrame.from_postgis(sql, conn, geom_col='Geometry').plot();"
   ]
  },
  {
   "cell_type": "code",
   "execution_count": 44,
   "metadata": {},
   "outputs": [
    {
     "data": {
      "text/html": [
       "<div>\n",
       "<style scoped>\n",
       "    .dataframe tbody tr th:only-of-type {\n",
       "        vertical-align: middle;\n",
       "    }\n",
       "\n",
       "    .dataframe tbody tr th {\n",
       "        vertical-align: top;\n",
       "    }\n",
       "\n",
       "    .dataframe thead th {\n",
       "        text-align: right;\n",
       "    }\n",
       "</style>\n",
       "<table border=\"1\" class=\"dataframe\">\n",
       "  <thead>\n",
       "    <tr style=\"text-align: right;\">\n",
       "      <th></th>\n",
       "      <th>wd18nm</th>\n",
       "      <th>Geometry</th>\n",
       "    </tr>\n",
       "  </thead>\n",
       "  <tbody>\n",
       "    <tr>\n",
       "      <th>0</th>\n",
       "      <td>Arreton and Newchurch</td>\n",
       "      <td>(POLYGON ((452228.4961999999 83628.70079999976...</td>\n",
       "    </tr>\n",
       "  </tbody>\n",
       "</table>\n",
       "</div>"
      ],
      "text/plain": [
       "                  wd18nm                                           Geometry\n",
       "0  Arreton and Newchurch  (POLYGON ((452228.4961999999 83628.70079999976..."
      ]
     },
     "execution_count": 44,
     "metadata": {},
     "output_type": "execute_result"
    }
   ],
   "source": [
    "#Select ward by name - we need to make sure we return a geometry column from the geopandas dataframe\n",
    "sql = \"SELECT wd18nm, Hex(ST_AsBinary(Geometry)) AS Geometry FROM wardboundaries WHERE wd18nm='Arreton and Newchurch';\"\n",
    "gpd.GeoDataFrame.from_postgis(sql, conn, geom_col='Geometry')\n"
   ]
  },
  {
   "cell_type": "markdown",
   "metadata": {},
   "source": [
    "We can select neighbouring wards too:"
   ]
  },
  {
   "cell_type": "code",
   "execution_count": 60,
   "metadata": {},
   "outputs": [
    {
     "data": {
      "text/html": [
       "<div>\n",
       "<style scoped>\n",
       "    .dataframe tbody tr th:only-of-type {\n",
       "        vertical-align: middle;\n",
       "    }\n",
       "\n",
       "    .dataframe tbody tr th {\n",
       "        vertical-align: top;\n",
       "    }\n",
       "\n",
       "    .dataframe thead th {\n",
       "        text-align: right;\n",
       "    }\n",
       "</style>\n",
       "<table border=\"1\" class=\"dataframe\">\n",
       "  <thead>\n",
       "    <tr style=\"text-align: right;\">\n",
       "      <th></th>\n",
       "      <th>Ward</th>\n",
       "      <th>Neighbour</th>\n",
       "      <th>Geometry</th>\n",
       "    </tr>\n",
       "  </thead>\n",
       "  <tbody>\n",
       "    <tr>\n",
       "      <th>0</th>\n",
       "      <td>Arreton and Newchurch</td>\n",
       "      <td>Arreton and Newchurch</td>\n",
       "      <td>(POLYGON ((452228.4961999999 83628.70079999976...</td>\n",
       "    </tr>\n",
       "    <tr>\n",
       "      <th>1</th>\n",
       "      <td>Arreton and Newchurch</td>\n",
       "      <td>Brading, St Helens and Bembridge</td>\n",
       "      <td>(POLYGON ((463590.1529999999 90525.79900000058...</td>\n",
       "    </tr>\n",
       "    <tr>\n",
       "      <th>2</th>\n",
       "      <td>Arreton and Newchurch</td>\n",
       "      <td>Central Wight</td>\n",
       "      <td>(POLYGON ((448688.1989000002 86183.19959999993...</td>\n",
       "    </tr>\n",
       "    <tr>\n",
       "      <th>3</th>\n",
       "      <td>Arreton and Newchurch</td>\n",
       "      <td>Godshill and Wroxall</td>\n",
       "      <td>(POLYGON ((453855.7002999997 78615.09600000083...</td>\n",
       "    </tr>\n",
       "    <tr>\n",
       "      <th>4</th>\n",
       "      <td>Arreton and Newchurch</td>\n",
       "      <td>Havenstreet, Ashey and Haylands</td>\n",
       "      <td>(POLYGON ((453283.6990999999 87799.39699999988...</td>\n",
       "    </tr>\n",
       "    <tr>\n",
       "      <th>5</th>\n",
       "      <td>Arreton and Newchurch</td>\n",
       "      <td>Lake North</td>\n",
       "      <td>(POLYGON ((458851.6961000003 84974.19569999911...</td>\n",
       "    </tr>\n",
       "    <tr>\n",
       "      <th>6</th>\n",
       "      <td>Arreton and Newchurch</td>\n",
       "      <td>Lake South</td>\n",
       "      <td>(POLYGON ((458190.9039000003 83607.99679999985...</td>\n",
       "    </tr>\n",
       "    <tr>\n",
       "      <th>7</th>\n",
       "      <td>Arreton and Newchurch</td>\n",
       "      <td>Newport East</td>\n",
       "      <td>(POLYGON ((450126.4013999999 88779.29649999924...</td>\n",
       "    </tr>\n",
       "    <tr>\n",
       "      <th>8</th>\n",
       "      <td>Arreton and Newchurch</td>\n",
       "      <td>Newport North</td>\n",
       "      <td>(POLYGON ((453283.6990999999 87799.39699999988...</td>\n",
       "    </tr>\n",
       "    <tr>\n",
       "      <th>9</th>\n",
       "      <td>Arreton and Newchurch</td>\n",
       "      <td>Newport South</td>\n",
       "      <td>(POLYGON ((450438.1966000004 87920.80220000073...</td>\n",
       "    </tr>\n",
       "    <tr>\n",
       "      <th>10</th>\n",
       "      <td>Arreton and Newchurch</td>\n",
       "      <td>Sandown South</td>\n",
       "      <td>(POLYGON ((460095.0017999997 85649.30240000039...</td>\n",
       "    </tr>\n",
       "    <tr>\n",
       "      <th>11</th>\n",
       "      <td>Arreton and Newchurch</td>\n",
       "      <td>Shanklin Central</td>\n",
       "      <td>(POLYGON ((458290.2981000002 82271.9991999995,...</td>\n",
       "    </tr>\n",
       "    <tr>\n",
       "      <th>12</th>\n",
       "      <td>Arreton and Newchurch</td>\n",
       "      <td>Shanklin South</td>\n",
       "      <td>(POLYGON ((458705.1978000002 81625.30430000089...</td>\n",
       "    </tr>\n",
       "  </tbody>\n",
       "</table>\n",
       "</div>"
      ],
      "text/plain": [
       "                     Ward                         Neighbour  \\\n",
       "0   Arreton and Newchurch             Arreton and Newchurch   \n",
       "1   Arreton and Newchurch  Brading, St Helens and Bembridge   \n",
       "2   Arreton and Newchurch                     Central Wight   \n",
       "3   Arreton and Newchurch              Godshill and Wroxall   \n",
       "4   Arreton and Newchurch   Havenstreet, Ashey and Haylands   \n",
       "5   Arreton and Newchurch                        Lake North   \n",
       "6   Arreton and Newchurch                        Lake South   \n",
       "7   Arreton and Newchurch                      Newport East   \n",
       "8   Arreton and Newchurch                     Newport North   \n",
       "9   Arreton and Newchurch                     Newport South   \n",
       "10  Arreton and Newchurch                     Sandown South   \n",
       "11  Arreton and Newchurch                  Shanklin Central   \n",
       "12  Arreton and Newchurch                    Shanklin South   \n",
       "\n",
       "                                             Geometry  \n",
       "0   (POLYGON ((452228.4961999999 83628.70079999976...  \n",
       "1   (POLYGON ((463590.1529999999 90525.79900000058...  \n",
       "2   (POLYGON ((448688.1989000002 86183.19959999993...  \n",
       "3   (POLYGON ((453855.7002999997 78615.09600000083...  \n",
       "4   (POLYGON ((453283.6990999999 87799.39699999988...  \n",
       "5   (POLYGON ((458851.6961000003 84974.19569999911...  \n",
       "6   (POLYGON ((458190.9039000003 83607.99679999985...  \n",
       "7   (POLYGON ((450126.4013999999 88779.29649999924...  \n",
       "8   (POLYGON ((453283.6990999999 87799.39699999988...  \n",
       "9   (POLYGON ((450438.1966000004 87920.80220000073...  \n",
       "10  (POLYGON ((460095.0017999997 85649.30240000039...  \n",
       "11  (POLYGON ((458290.2981000002 82271.9991999995,...  \n",
       "12  (POLYGON ((458705.1978000002 81625.30430000089...  "
      ]
     },
     "execution_count": 60,
     "metadata": {},
     "output_type": "execute_result"
    }
   ],
   "source": [
    "q='''\n",
    "SELECT w1.wd18nm AS \"Ward\",\n",
    "  w2.wd18nm AS \"Neighbour\", Hex(ST_AsBinary(w2.Geometry)) AS Geometry \n",
    "FROM wardboundaries AS w1,\n",
    "  wardboundaries AS w2\n",
    "WHERE (Touches(w1.Geometry, w2.Geometry) OR w1.wd18nm=w2.wd18nm)\n",
    "AND w1.wd18nm='Arreton and Newchurch';\n",
    "'''\n",
    "\n",
    "gpd.GeoDataFrame.from_postgis(q, conn, geom_col='Geometry')"
   ]
  },
  {
   "cell_type": "code",
   "execution_count": 62,
   "metadata": {},
   "outputs": [
    {
     "data": {
      "image/png": "[encoded data removed]",
      "text/plain": [
       "<Figure size 432x288 with 1 Axes>"
      ]
     },
     "metadata": {
      "needs_background": "light"
     },
     "output_type": "display_data"
    }
   ],
   "source": [
    "gpd.GeoDataFrame.from_postgis(q, conn, geom_col='Geometry').plot(facecolor=\"none\", edgecolor='black',);"
   ]
  },
  {
   "cell_type": "code",
   "execution_count": null,
   "metadata": {},
   "outputs": [],
   "source": []
  }
 ],
 "metadata": {
  "kernelspec": {
   "display_name": "Python 3",
   "language": "python",
   "name": "python3"
  },
  "language_info": {
   "codemirror_mode": {
    "name": "ipython",
    "version": 3
   },
   "file_extension": ".py",
   "mimetype": "text/x-python",
   "name": "python",
   "nbconvert_exporter": "python",
   "pygments_lexer": "ipython3",
   "version": "3.6.7"
  }
 },
 "nbformat": 4,
 "nbformat_minor": 2
}
