{
 "cells": [
  {
   "cell_type": "markdown",
   "metadata": {},
   "source": [
    "# ONS Boundaries\n",
    "\n",
    "Fragments associated with grabbing boundaries data."
   ]
  },
  {
   "cell_type": "markdown",
   "metadata": {},
   "source": [
    "## Wards (December 2018) Full Extent Boundaries GB\n",
    "http://geoportal.statistics.gov.uk/datasets/wards-december-2018-full-extent-boundaries-gb"
   ]
  },
  {
   "cell_type": "code",
   "execution_count": 2,
   "metadata": {},
   "outputs": [
    {
     "name": "stdout",
     "output_type": "stream",
     "text": [
      "--2019-02-28 22:31:11--  https://opendata.arcgis.com/datasets/52182cdda64d4b15984f6446ca7ee7fd_1.zip?outSR=%7B%22wkid%22%3A27700%2C%22latestWkid%22%3A27700%7D\n",
      "Resolving opendata.arcgis.com (opendata.arcgis.com)... 34.195.104.83, 52.86.189.134\n",
      "Connecting to opendata.arcgis.com (opendata.arcgis.com)|34.195.104.83|:443... connected.\n",
      "HTTP request sent, awaiting response... 200 OK\n",
      "Length: unspecified [application/octet-stream]\n",
      "Saving to: ‘wards_fullextent.zip’\n",
      "\n",
      "wards_fullextent.zi     [            <=>     ]  88.51M  32.9MB/s    in 2.7s    \n",
      "\n",
      "2019-02-28 22:31:14 (32.9 MB/s) - ‘wards_fullextent.zip’ saved [92814270]\n",
      "\n"
     ]
    }
   ],
   "source": [
    "!wget https://opendata.arcgis.com/datasets/52182cdda64d4b15984f6446ca7ee7fd_1.zip?outSR=%7B%22wkid%22%3A27700%2C%22latestWkid%22%3A27700%7D -O wards_fullextent.zip"
   ]
  },
  {
   "cell_type": "code",
   "execution_count": 4,
   "metadata": {},
   "outputs": [
    {
     "name": "stdout",
     "output_type": "stream",
     "text": [
      "Archive:  wards_fullextent.zip\n",
      "  inflating: Wards_December_2018_Full_Extent_Boundaries_GB.shp  \n",
      "  inflating: Wards_December_2018_Full_Extent_Boundaries_GB.shx  \n",
      " extracting: Wards_December_2018_Full_Extent_Boundaries_GB.cpg  \n",
      "  inflating: Wards_December_2018_Full_Extent_Boundaries_GB.prj  \n",
      "  inflating: Wards_December_2018_Full_Extent_Boundaries_GB.xml  \n",
      "  inflating: Wards_December_2018_Full_Extent_Boundaries_GB.dbf  \n"
     ]
    }
   ],
   "source": [
    "!unzip wards_fullextent.zip"
   ]
  },
  {
   "cell_type": "code",
   "execution_count": 11,
   "metadata": {},
   "outputs": [
    {
     "name": "stdout",
     "output_type": "stream",
     "text": [
      "SpatiaLite version ..: 4.3.0a\tSupported Extensions:\n",
      "\t- 'VirtualShape'\t[direct Shapefile access]\n",
      "\t- 'VirtualDbf'\t\t[direct DBF access]\n",
      "\t- 'VirtualXL'\t\t[direct XLS access]\n",
      "\t- 'VirtualText'\t\t[direct CSV/TXT access]\n",
      "\t- 'VirtualNetwork'\t[Dijkstra shortest path]\n",
      "\t- 'RTree'\t\t[Spatial Index - R*Tree]\n",
      "\t- 'MbrCache'\t\t[Spatial Index - MBR cache]\n",
      "\t- 'VirtualSpatialIndex'\t[R*Tree metahandler]\n",
      "\t- 'VirtualElementary'\t[ElemGeoms metahandler]\n",
      "\t- 'VirtualXPath'\t[XML Path Language - XPath]\n",
      "\t- 'VirtualFDO'\t\t[FDO-OGR interoperability]\n",
      "\t- 'VirtualGPKG'\t[OGC GeoPackage interoperability]\n",
      "\t- 'VirtualBBox'\t\t[BoundingBox tables]\n",
      "\t- 'SpatiaLite'\t\t[Spatial SQL - OGC]\n",
      "PROJ.4 version ......: Rel. 4.9.3, 15 August 2016\n",
      "GEOS version ........: 3.6.2-CAPI-1.10.2 4d2925d6\n",
      "TARGET CPU ..........: x86_64-linux-gnu\n",
      "========\n",
      "Loading shapefile at './Wards_December_2018_Full_Extent_Boundaries_GB' into SQLite table 'wardboundaries'\n",
      "\n",
      "BEGIN;\n",
      "CREATE TABLE \"wardboundaries\" (\n",
      "\"PK_UID\" INTEGER PRIMARY KEY AUTOINCREMENT,\n",
      "\"objectid\" INTEGER,\n",
      "\"wd18cd\" TEXT,\n",
      "\"wd18nm\" TEXT,\n",
      "\"wd18nmw\" TEXT,\n",
      "\"bng_e\" INTEGER,\n",
      "\"bng_n\" INTEGER,\n",
      "\"long\" DOUBLE,\n",
      "\"lat\" DOUBLE,\n",
      "\"st_areasha\" DOUBLE,\n",
      "\"st_lengths\" DOUBLE);\n",
      "SELECT AddGeometryColumn('wardboundaries', 'Geometry', 27700, 'MULTIPOLYGON', 'XY');\n",
      "COMMIT;\n",
      "\n",
      "Inserted 8652 rows into 'wardboundaries' from SHAPEFILE\n",
      "========\n"
     ]
    }
   ],
   "source": [
    "! spatialite adminboundaries.db \".loadshp ./Wards_December_2018_Full_Extent_Boundaries_GB wardboundaries UTF-8 27700\""
   ]
  },
  {
   "cell_type": "code",
   "execution_count": 13,
   "metadata": {},
   "outputs": [
    {
     "name": "stdout",
     "output_type": "stream",
     "text": [
      "SpatiaLite version ..: 4.3.0a\tSupported Extensions:\n",
      "\t- 'VirtualShape'\t[direct Shapefile access]\n",
      "\t- 'VirtualDbf'\t\t[direct DBF access]\n",
      "\t- 'VirtualXL'\t\t[direct XLS access]\n",
      "\t- 'VirtualText'\t\t[direct CSV/TXT access]\n",
      "\t- 'VirtualNetwork'\t[Dijkstra shortest path]\n",
      "\t- 'RTree'\t\t[Spatial Index - R*Tree]\n",
      "\t- 'MbrCache'\t\t[Spatial Index - MBR cache]\n",
      "\t- 'VirtualSpatialIndex'\t[R*Tree metahandler]\n",
      "\t- 'VirtualElementary'\t[ElemGeoms metahandler]\n",
      "\t- 'VirtualXPath'\t[XML Path Language - XPath]\n",
      "\t- 'VirtualFDO'\t\t[FDO-OGR interoperability]\n",
      "\t- 'VirtualGPKG'\t[OGC GeoPackage interoperability]\n",
      "\t- 'VirtualBBox'\t\t[BoundingBox tables]\n",
      "\t- 'SpatiaLite'\t\t[Spatial SQL - OGC]\n",
      "PROJ.4 version ......: Rel. 4.9.3, 15 August 2016\n",
      "GEOS version ........: 3.6.2-CAPI-1.10.2 4d2925d6\n",
      "TARGET CPU ..........: x86_64-linux-gnu\n",
      "1\n"
     ]
    }
   ],
   "source": [
    "! spatialite adminboundaries.db \"SELECT CreateSpatialIndex('wardboundaries', 'Geometry');\""
   ]
  },
  {
   "cell_type": "code",
   "execution_count": null,
   "metadata": {},
   "outputs": [],
   "source": []
  }
 ],
 "metadata": {
  "kernelspec": {
   "display_name": "Python 3",
   "language": "python",
   "name": "python3"
  },
  "language_info": {
   "codemirror_mode": {
    "name": "ipython",
    "version": 3
   },
   "file_extension": ".py",
   "mimetype": "text/x-python",
   "name": "python",
   "nbconvert_exporter": "python",
   "pygments_lexer": "ipython3",
   "version": "3.6.7"
  }
 },
 "nbformat": 4,
 "nbformat_minor": 2
}
